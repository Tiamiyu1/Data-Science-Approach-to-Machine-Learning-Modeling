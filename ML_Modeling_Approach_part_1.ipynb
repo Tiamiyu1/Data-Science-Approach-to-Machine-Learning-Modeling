{
  "nbformat": 4,
  "nbformat_minor": 0,
  "metadata": {
    "colab": {
      "name": "ML Modeling Approach part 1.ipynb",
      "provenance": [],
      "collapsed_sections": [
        "__N5oz3CZNog",
        "X5OFZVwpap-g",
        "IIgRsfRbYjfM",
        "uiZYEGnybeEq",
        "RS6ajvljfrLl",
        "ehfvAKxggTNV",
        "8aSKdGcVhG2g",
        "T8MDAZMshem5",
        "lZA5Vyi_fl6u",
        "URS38MpKjGxb",
        "KWu372NhkB_E",
        "PNjmOW5YnyJX",
        "oBHf98QBjDwM",
        "yrjXWxmfj-iy",
        "M1zM8hkVk5z2",
        "K_rfW10sl3B3",
        "584VQOMimr9L",
        "FiV-ZPMmnPZM",
        "wW0d56VdnXWo",
        "EvIeOpoYpii9",
        "732pGIIxpuHP",
        "8ypAGMUaqsNm"
      ],
      "authorship_tag": "ABX9TyOXxWNIT449AjAfWgFj10yf",
      "include_colab_link": true
    },
    "kernelspec": {
      "name": "python3",
      "display_name": "Python 3"
    },
    "language_info": {
      "name": "python"
    }
  },
  "cells": [
    {
      "cell_type": "markdown",
      "metadata": {
        "id": "view-in-github",
        "colab_type": "text"
      },
      "source": [
        "<a href=\"https://colab.research.google.com/github/Tiamiyu1/Data-Science-Approach-to-Machine-Learning-Modeling/blob/main/ML_Modeling_Approach_part_1.ipynb\" target=\"_parent\"><img src=\"https://colab.research.google.com/assets/colab-badge.svg\" alt=\"Open In Colab\"/></a>"
      ]
    },
    {
      "cell_type": "markdown",
      "source": [
        "## Data Science Approach to Machine Learning  Modeling with Linear Regression"
      ],
      "metadata": {
        "id": "__N5oz3CZNog"
      }
    },
    {
      "cell_type": "markdown",
      "source": [
        "## 1.0 Import necessary libraries"
      ],
      "metadata": {
        "id": "X5OFZVwpap-g"
      }
    },
    {
      "cell_type": "code",
      "execution_count": 1,
      "metadata": {
        "id": "uh8gpGg2X0yw"
      },
      "outputs": [],
      "source": [
        "import numpy as np\n",
        "import pandas as pd \n",
        "import matplotlib.pyplot as plt\n",
        "%matplotlib inline\n",
        "import seaborn as sns\n",
        "sns.set_style('whitegrid')\n",
        "\n",
        "import warnings\n",
        "warnings.filterwarnings(\"ignore\")"
      ]
    },
    {
      "cell_type": "markdown",
      "source": [
        "## 2.0 Read the csv file"
      ],
      "metadata": {
        "id": "IIgRsfRbYjfM"
      }
    },
    {
      "cell_type": "code",
      "source": [
        "path ='https://raw.githubusercontent.com/Tiamiyu1/Simplistic-Approach-to-Machine-Learning-Modeling-with-Linear-Regression/main/student.csv'\n",
        "data = pd.read_csv(path)\n",
        "data.head(3)"
      ],
      "metadata": {
        "colab": {
          "base_uri": "https://localhost:8080/",
          "height": 0
        },
        "id": "MeXV_lTFbWRX",
        "outputId": "de887d37-49cf-4c16-94f5-bfe685018166"
      },
      "execution_count": 2,
      "outputs": [
        {
          "output_type": "execute_result",
          "data": {
            "text/html": [
              "\n",
              "  <div id=\"df-2f50f599-e401-4be1-a8f3-d5d6b3a45012\">\n",
              "    <div class=\"colab-df-container\">\n",
              "      <div>\n",
              "<style scoped>\n",
              "    .dataframe tbody tr th:only-of-type {\n",
              "        vertical-align: middle;\n",
              "    }\n",
              "\n",
              "    .dataframe tbody tr th {\n",
              "        vertical-align: top;\n",
              "    }\n",
              "\n",
              "    .dataframe thead th {\n",
              "        text-align: right;\n",
              "    }\n",
              "</style>\n",
              "<table border=\"1\" class=\"dataframe\">\n",
              "  <thead>\n",
              "    <tr style=\"text-align: right;\">\n",
              "      <th></th>\n",
              "      <th>FIRST NAME</th>\n",
              "      <th>LAST NAME</th>\n",
              "      <th>GENDER</th>\n",
              "      <th>MATH</th>\n",
              "      <th>ENGLISH</th>\n",
              "      <th>BIOLOGY</th>\n",
              "      <th>ECONOMICS</th>\n",
              "      <th>AGRIC</th>\n",
              "      <th>INTELIGENCE</th>\n",
              "    </tr>\n",
              "  </thead>\n",
              "  <tbody>\n",
              "    <tr>\n",
              "      <th>0</th>\n",
              "      <td>ATTAH</td>\n",
              "      <td>OPPOR</td>\n",
              "      <td>MALE</td>\n",
              "      <td>75</td>\n",
              "      <td>100.00</td>\n",
              "      <td>100.0</td>\n",
              "      <td>55</td>\n",
              "      <td>77.0</td>\n",
              "      <td>7.61</td>\n",
              "    </tr>\n",
              "    <tr>\n",
              "      <th>1</th>\n",
              "      <td>IMRAN</td>\n",
              "      <td>ROFID</td>\n",
              "      <td>FEMALE</td>\n",
              "      <td>70</td>\n",
              "      <td>33.33</td>\n",
              "      <td>100.0</td>\n",
              "      <td>55</td>\n",
              "      <td>97.5</td>\n",
              "      <td>7.73</td>\n",
              "    </tr>\n",
              "    <tr>\n",
              "      <th>2</th>\n",
              "      <td>JAMES</td>\n",
              "      <td>WALLY</td>\n",
              "      <td>MALE</td>\n",
              "      <td>80</td>\n",
              "      <td>0.00</td>\n",
              "      <td>85.0</td>\n",
              "      <td>68</td>\n",
              "      <td>100.0</td>\n",
              "      <td>7.72</td>\n",
              "    </tr>\n",
              "  </tbody>\n",
              "</table>\n",
              "</div>\n",
              "      <button class=\"colab-df-convert\" onclick=\"convertToInteractive('df-2f50f599-e401-4be1-a8f3-d5d6b3a45012')\"\n",
              "              title=\"Convert this dataframe to an interactive table.\"\n",
              "              style=\"display:none;\">\n",
              "        \n",
              "  <svg xmlns=\"http://www.w3.org/2000/svg\" height=\"24px\"viewBox=\"0 0 24 24\"\n",
              "       width=\"24px\">\n",
              "    <path d=\"M0 0h24v24H0V0z\" fill=\"none\"/>\n",
              "    <path d=\"M18.56 5.44l.94 2.06.94-2.06 2.06-.94-2.06-.94-.94-2.06-.94 2.06-2.06.94zm-11 1L8.5 8.5l.94-2.06 2.06-.94-2.06-.94L8.5 2.5l-.94 2.06-2.06.94zm10 10l.94 2.06.94-2.06 2.06-.94-2.06-.94-.94-2.06-.94 2.06-2.06.94z\"/><path d=\"M17.41 7.96l-1.37-1.37c-.4-.4-.92-.59-1.43-.59-.52 0-1.04.2-1.43.59L10.3 9.45l-7.72 7.72c-.78.78-.78 2.05 0 2.83L4 21.41c.39.39.9.59 1.41.59.51 0 1.02-.2 1.41-.59l7.78-7.78 2.81-2.81c.8-.78.8-2.07 0-2.86zM5.41 20L4 18.59l7.72-7.72 1.47 1.35L5.41 20z\"/>\n",
              "  </svg>\n",
              "      </button>\n",
              "      \n",
              "  <style>\n",
              "    .colab-df-container {\n",
              "      display:flex;\n",
              "      flex-wrap:wrap;\n",
              "      gap: 12px;\n",
              "    }\n",
              "\n",
              "    .colab-df-convert {\n",
              "      background-color: #E8F0FE;\n",
              "      border: none;\n",
              "      border-radius: 50%;\n",
              "      cursor: pointer;\n",
              "      display: none;\n",
              "      fill: #1967D2;\n",
              "      height: 32px;\n",
              "      padding: 0 0 0 0;\n",
              "      width: 32px;\n",
              "    }\n",
              "\n",
              "    .colab-df-convert:hover {\n",
              "      background-color: #E2EBFA;\n",
              "      box-shadow: 0px 1px 2px rgba(60, 64, 67, 0.3), 0px 1px 3px 1px rgba(60, 64, 67, 0.15);\n",
              "      fill: #174EA6;\n",
              "    }\n",
              "\n",
              "    [theme=dark] .colab-df-convert {\n",
              "      background-color: #3B4455;\n",
              "      fill: #D2E3FC;\n",
              "    }\n",
              "\n",
              "    [theme=dark] .colab-df-convert:hover {\n",
              "      background-color: #434B5C;\n",
              "      box-shadow: 0px 1px 3px 1px rgba(0, 0, 0, 0.15);\n",
              "      filter: drop-shadow(0px 1px 2px rgba(0, 0, 0, 0.3));\n",
              "      fill: #FFFFFF;\n",
              "    }\n",
              "  </style>\n",
              "\n",
              "      <script>\n",
              "        const buttonEl =\n",
              "          document.querySelector('#df-2f50f599-e401-4be1-a8f3-d5d6b3a45012 button.colab-df-convert');\n",
              "        buttonEl.style.display =\n",
              "          google.colab.kernel.accessAllowed ? 'block' : 'none';\n",
              "\n",
              "        async function convertToInteractive(key) {\n",
              "          const element = document.querySelector('#df-2f50f599-e401-4be1-a8f3-d5d6b3a45012');\n",
              "          const dataTable =\n",
              "            await google.colab.kernel.invokeFunction('convertToInteractive',\n",
              "                                                     [key], {});\n",
              "          if (!dataTable) return;\n",
              "\n",
              "          const docLinkHtml = 'Like what you see? Visit the ' +\n",
              "            '<a target=\"_blank\" href=https://colab.research.google.com/notebooks/data_table.ipynb>data table notebook</a>'\n",
              "            + ' to learn more about interactive tables.';\n",
              "          element.innerHTML = '';\n",
              "          dataTable['output_type'] = 'display_data';\n",
              "          await google.colab.output.renderOutput(dataTable, element);\n",
              "          const docLink = document.createElement('div');\n",
              "          docLink.innerHTML = docLinkHtml;\n",
              "          element.appendChild(docLink);\n",
              "        }\n",
              "      </script>\n",
              "    </div>\n",
              "  </div>\n",
              "  "
            ],
            "text/plain": [
              "  FIRST NAME LAST NAME  GENDER  MATH  ...  BIOLOGY  ECONOMICS  AGRIC  INTELIGENCE\n",
              "0     ATTAH      OPPOR    MALE    75  ...    100.0         55   77.0         7.61\n",
              "1      IMRAN     ROFID  FEMALE    70  ...    100.0         55   97.5         7.73\n",
              "2      JAMES     WALLY    MALE    80  ...     85.0         68  100.0         7.72\n",
              "\n",
              "[3 rows x 9 columns]"
            ]
          },
          "metadata": {},
          "execution_count": 2
        }
      ]
    },
    {
      "cell_type": "markdown",
      "source": [
        "## 3.0 Data Description"
      ],
      "metadata": {
        "id": "uiZYEGnybeEq"
      }
    },
    {
      "cell_type": "markdown",
      "source": [
        "### 3.1 df.info()\n",
        "\n",
        "This tells us number of rows and columns in our dataset\n",
        "\n",
        "It tells us the numbers of non-null values we have in each colum\n",
        "\n",
        "It also inform us about data type of each of the column"
      ],
      "metadata": {
        "id": "RS6ajvljfrLl"
      }
    },
    {
      "cell_type": "code",
      "source": [
        "data.info() "
      ],
      "metadata": {
        "colab": {
          "base_uri": "https://localhost:8080/"
        },
        "id": "miGwca0tfDN1",
        "outputId": "21b11589-7bc8-450e-94fa-7097c518961c"
      },
      "execution_count": 3,
      "outputs": [
        {
          "output_type": "stream",
          "name": "stdout",
          "text": [
            "<class 'pandas.core.frame.DataFrame'>\n",
            "RangeIndex: 26 entries, 0 to 25\n",
            "Data columns (total 9 columns):\n",
            " #   Column       Non-Null Count  Dtype  \n",
            "---  ------       --------------  -----  \n",
            " 0   FIRST NAME   26 non-null     object \n",
            " 1   LAST NAME    26 non-null     object \n",
            " 2   GENDER       26 non-null     object \n",
            " 3   MATH         26 non-null     int64  \n",
            " 4   ENGLISH      26 non-null     float64\n",
            " 5   BIOLOGY      26 non-null     float64\n",
            " 6   ECONOMICS    26 non-null     int64  \n",
            " 7   AGRIC        26 non-null     float64\n",
            " 8   INTELIGENCE  26 non-null     float64\n",
            "dtypes: float64(4), int64(2), object(3)\n",
            "memory usage: 2.0+ KB\n"
          ]
        }
      ]
    },
    {
      "cell_type": "markdown",
      "source": [
        "### 3.2 df.describe()\n",
        "This gives us descriptive statistics include those that summarize the central\n",
        "tendency like the mean, dispersion like standard deviation, count, minimum and maximum values in each column, first quartile, median and third quartile."
      ],
      "metadata": {
        "id": "ehfvAKxggTNV"
      }
    },
    {
      "cell_type": "code",
      "source": [
        "data.describe()"
      ],
      "metadata": {
        "colab": {
          "base_uri": "https://localhost:8080/",
          "height": 0
        },
        "id": "FqoDZNwIfYog",
        "outputId": "7daaf8bb-d049-417f-f15a-d3c530af0682"
      },
      "execution_count": 4,
      "outputs": [
        {
          "output_type": "execute_result",
          "data": {
            "text/html": [
              "\n",
              "  <div id=\"df-1601e5ec-464e-4f72-bc9e-5aa722aa6627\">\n",
              "    <div class=\"colab-df-container\">\n",
              "      <div>\n",
              "<style scoped>\n",
              "    .dataframe tbody tr th:only-of-type {\n",
              "        vertical-align: middle;\n",
              "    }\n",
              "\n",
              "    .dataframe tbody tr th {\n",
              "        vertical-align: top;\n",
              "    }\n",
              "\n",
              "    .dataframe thead th {\n",
              "        text-align: right;\n",
              "    }\n",
              "</style>\n",
              "<table border=\"1\" class=\"dataframe\">\n",
              "  <thead>\n",
              "    <tr style=\"text-align: right;\">\n",
              "      <th></th>\n",
              "      <th>MATH</th>\n",
              "      <th>ENGLISH</th>\n",
              "      <th>BIOLOGY</th>\n",
              "      <th>ECONOMICS</th>\n",
              "      <th>AGRIC</th>\n",
              "      <th>INTELIGENCE</th>\n",
              "    </tr>\n",
              "  </thead>\n",
              "  <tbody>\n",
              "    <tr>\n",
              "      <th>count</th>\n",
              "      <td>26.000000</td>\n",
              "      <td>26.000000</td>\n",
              "      <td>26.000000</td>\n",
              "      <td>26.000000</td>\n",
              "      <td>26.000000</td>\n",
              "      <td>26.000000</td>\n",
              "    </tr>\n",
              "    <tr>\n",
              "      <th>mean</th>\n",
              "      <td>80.000000</td>\n",
              "      <td>74.487308</td>\n",
              "      <td>77.692308</td>\n",
              "      <td>71.115385</td>\n",
              "      <td>62.500000</td>\n",
              "      <td>6.944615</td>\n",
              "    </tr>\n",
              "    <tr>\n",
              "      <th>std</th>\n",
              "      <td>23.664319</td>\n",
              "      <td>24.238665</td>\n",
              "      <td>22.901125</td>\n",
              "      <td>19.089949</td>\n",
              "      <td>26.835797</td>\n",
              "      <td>1.488122</td>\n",
              "    </tr>\n",
              "    <tr>\n",
              "      <th>min</th>\n",
              "      <td>0.000000</td>\n",
              "      <td>0.000000</td>\n",
              "      <td>0.000000</td>\n",
              "      <td>35.000000</td>\n",
              "      <td>14.500000</td>\n",
              "      <td>4.080000</td>\n",
              "    </tr>\n",
              "    <tr>\n",
              "      <th>25%</th>\n",
              "      <td>75.000000</td>\n",
              "      <td>60.832500</td>\n",
              "      <td>65.000000</td>\n",
              "      <td>56.000000</td>\n",
              "      <td>50.625000</td>\n",
              "      <td>6.200000</td>\n",
              "    </tr>\n",
              "    <tr>\n",
              "      <th>50%</th>\n",
              "      <td>85.000000</td>\n",
              "      <td>78.335000</td>\n",
              "      <td>80.000000</td>\n",
              "      <td>70.000000</td>\n",
              "      <td>67.250000</td>\n",
              "      <td>7.210000</td>\n",
              "    </tr>\n",
              "    <tr>\n",
              "      <th>75%</th>\n",
              "      <td>100.000000</td>\n",
              "      <td>95.835000</td>\n",
              "      <td>97.500000</td>\n",
              "      <td>84.500000</td>\n",
              "      <td>79.500000</td>\n",
              "      <td>7.745000</td>\n",
              "    </tr>\n",
              "    <tr>\n",
              "      <th>max</th>\n",
              "      <td>100.000000</td>\n",
              "      <td>100.000000</td>\n",
              "      <td>100.000000</td>\n",
              "      <td>100.000000</td>\n",
              "      <td>100.000000</td>\n",
              "      <td>9.720000</td>\n",
              "    </tr>\n",
              "  </tbody>\n",
              "</table>\n",
              "</div>\n",
              "      <button class=\"colab-df-convert\" onclick=\"convertToInteractive('df-1601e5ec-464e-4f72-bc9e-5aa722aa6627')\"\n",
              "              title=\"Convert this dataframe to an interactive table.\"\n",
              "              style=\"display:none;\">\n",
              "        \n",
              "  <svg xmlns=\"http://www.w3.org/2000/svg\" height=\"24px\"viewBox=\"0 0 24 24\"\n",
              "       width=\"24px\">\n",
              "    <path d=\"M0 0h24v24H0V0z\" fill=\"none\"/>\n",
              "    <path d=\"M18.56 5.44l.94 2.06.94-2.06 2.06-.94-2.06-.94-.94-2.06-.94 2.06-2.06.94zm-11 1L8.5 8.5l.94-2.06 2.06-.94-2.06-.94L8.5 2.5l-.94 2.06-2.06.94zm10 10l.94 2.06.94-2.06 2.06-.94-2.06-.94-.94-2.06-.94 2.06-2.06.94z\"/><path d=\"M17.41 7.96l-1.37-1.37c-.4-.4-.92-.59-1.43-.59-.52 0-1.04.2-1.43.59L10.3 9.45l-7.72 7.72c-.78.78-.78 2.05 0 2.83L4 21.41c.39.39.9.59 1.41.59.51 0 1.02-.2 1.41-.59l7.78-7.78 2.81-2.81c.8-.78.8-2.07 0-2.86zM5.41 20L4 18.59l7.72-7.72 1.47 1.35L5.41 20z\"/>\n",
              "  </svg>\n",
              "      </button>\n",
              "      \n",
              "  <style>\n",
              "    .colab-df-container {\n",
              "      display:flex;\n",
              "      flex-wrap:wrap;\n",
              "      gap: 12px;\n",
              "    }\n",
              "\n",
              "    .colab-df-convert {\n",
              "      background-color: #E8F0FE;\n",
              "      border: none;\n",
              "      border-radius: 50%;\n",
              "      cursor: pointer;\n",
              "      display: none;\n",
              "      fill: #1967D2;\n",
              "      height: 32px;\n",
              "      padding: 0 0 0 0;\n",
              "      width: 32px;\n",
              "    }\n",
              "\n",
              "    .colab-df-convert:hover {\n",
              "      background-color: #E2EBFA;\n",
              "      box-shadow: 0px 1px 2px rgba(60, 64, 67, 0.3), 0px 1px 3px 1px rgba(60, 64, 67, 0.15);\n",
              "      fill: #174EA6;\n",
              "    }\n",
              "\n",
              "    [theme=dark] .colab-df-convert {\n",
              "      background-color: #3B4455;\n",
              "      fill: #D2E3FC;\n",
              "    }\n",
              "\n",
              "    [theme=dark] .colab-df-convert:hover {\n",
              "      background-color: #434B5C;\n",
              "      box-shadow: 0px 1px 3px 1px rgba(0, 0, 0, 0.15);\n",
              "      filter: drop-shadow(0px 1px 2px rgba(0, 0, 0, 0.3));\n",
              "      fill: #FFFFFF;\n",
              "    }\n",
              "  </style>\n",
              "\n",
              "      <script>\n",
              "        const buttonEl =\n",
              "          document.querySelector('#df-1601e5ec-464e-4f72-bc9e-5aa722aa6627 button.colab-df-convert');\n",
              "        buttonEl.style.display =\n",
              "          google.colab.kernel.accessAllowed ? 'block' : 'none';\n",
              "\n",
              "        async function convertToInteractive(key) {\n",
              "          const element = document.querySelector('#df-1601e5ec-464e-4f72-bc9e-5aa722aa6627');\n",
              "          const dataTable =\n",
              "            await google.colab.kernel.invokeFunction('convertToInteractive',\n",
              "                                                     [key], {});\n",
              "          if (!dataTable) return;\n",
              "\n",
              "          const docLinkHtml = 'Like what you see? Visit the ' +\n",
              "            '<a target=\"_blank\" href=https://colab.research.google.com/notebooks/data_table.ipynb>data table notebook</a>'\n",
              "            + ' to learn more about interactive tables.';\n",
              "          element.innerHTML = '';\n",
              "          dataTable['output_type'] = 'display_data';\n",
              "          await google.colab.output.renderOutput(dataTable, element);\n",
              "          const docLink = document.createElement('div');\n",
              "          docLink.innerHTML = docLinkHtml;\n",
              "          element.appendChild(docLink);\n",
              "        }\n",
              "      </script>\n",
              "    </div>\n",
              "  </div>\n",
              "  "
            ],
            "text/plain": [
              "             MATH     ENGLISH     BIOLOGY   ECONOMICS       AGRIC  INTELIGENCE\n",
              "count   26.000000   26.000000   26.000000   26.000000   26.000000    26.000000\n",
              "mean    80.000000   74.487308   77.692308   71.115385   62.500000     6.944615\n",
              "std     23.664319   24.238665   22.901125   19.089949   26.835797     1.488122\n",
              "min      0.000000    0.000000    0.000000   35.000000   14.500000     4.080000\n",
              "25%     75.000000   60.832500   65.000000   56.000000   50.625000     6.200000\n",
              "50%     85.000000   78.335000   80.000000   70.000000   67.250000     7.210000\n",
              "75%    100.000000   95.835000   97.500000   84.500000   79.500000     7.745000\n",
              "max    100.000000  100.000000  100.000000  100.000000  100.000000     9.720000"
            ]
          },
          "metadata": {},
          "execution_count": 4
        }
      ]
    },
    {
      "cell_type": "markdown",
      "source": [
        "### 3.3 df.columns \n",
        "\n",
        "This gives the names of all the columns in the dataframe(df)"
      ],
      "metadata": {
        "id": "8aSKdGcVhG2g"
      }
    },
    {
      "cell_type": "code",
      "source": [
        "data.columns"
      ],
      "metadata": {
        "colab": {
          "base_uri": "https://localhost:8080/"
        },
        "id": "M3tcPiYFfgQ3",
        "outputId": "1294656e-20c9-4adc-a179-7c82e6c5ac97"
      },
      "execution_count": 5,
      "outputs": [
        {
          "output_type": "execute_result",
          "data": {
            "text/plain": [
              "Index(['FIRST NAME', 'LAST NAME', 'GENDER', 'MATH', 'ENGLISH', 'BIOLOGY',\n",
              "       'ECONOMICS', 'AGRIC', 'INTELIGENCE'],\n",
              "      dtype='object')"
            ]
          },
          "metadata": {},
          "execution_count": 5
        }
      ]
    },
    {
      "cell_type": "markdown",
      "source": [
        "### 3.4 df.shape\n",
        "\n",
        "This gives the number of rows and columns in the df. \n",
        "\n",
        "df.shape[0] gives the number of rows\n",
        "\n",
        "df.shape[1] gives the number of columns"
      ],
      "metadata": {
        "id": "T8MDAZMshem5"
      }
    },
    {
      "cell_type": "code",
      "source": [
        "data.shape"
      ],
      "metadata": {
        "colab": {
          "base_uri": "https://localhost:8080/"
        },
        "id": "45yJHO51fkJ_",
        "outputId": "16482b69-1ae6-4c45-cd80-6f2ac83d68f3"
      },
      "execution_count": 6,
      "outputs": [
        {
          "output_type": "execute_result",
          "data": {
            "text/plain": [
              "(26, 9)"
            ]
          },
          "metadata": {},
          "execution_count": 6
        }
      ]
    },
    {
      "cell_type": "code",
      "source": [
        "data.shape[0]"
      ],
      "metadata": {
        "colab": {
          "base_uri": "https://localhost:8080/"
        },
        "id": "c_9G-bMMiJpx",
        "outputId": "2af6cd59-0cc4-4f35-cf87-cdf23d98dad8"
      },
      "execution_count": 7,
      "outputs": [
        {
          "output_type": "execute_result",
          "data": {
            "text/plain": [
              "26"
            ]
          },
          "metadata": {},
          "execution_count": 7
        }
      ]
    },
    {
      "cell_type": "code",
      "source": [
        "data.shape[1]"
      ],
      "metadata": {
        "colab": {
          "base_uri": "https://localhost:8080/"
        },
        "id": "d6qMfnkXiNa2",
        "outputId": "e77c7530-f326-4af7-f8de-c89ca358d310"
      },
      "execution_count": 8,
      "outputs": [
        {
          "output_type": "execute_result",
          "data": {
            "text/plain": [
              "9"
            ]
          },
          "metadata": {},
          "execution_count": 8
        }
      ]
    },
    {
      "cell_type": "markdown",
      "source": [
        "## 4.0 Data Cleaning and preprocessing\n",
        "\n",
        "Here, we check for irregular data and missing values"
      ],
      "metadata": {
        "id": "lZA5Vyi_fl6u"
      }
    },
    {
      "cell_type": "markdown",
      "source": [
        "### 4.1 Missing Values"
      ],
      "metadata": {
        "id": "URS38MpKjGxb"
      }
    },
    {
      "cell_type": "code",
      "source": [
        "# Check if there is any null value across the columns\n",
        "data.isnull().any()"
      ],
      "metadata": {
        "colab": {
          "base_uri": "https://localhost:8080/"
        },
        "id": "tBNnQCpvisXz",
        "outputId": "3075221b-05d5-4b7d-d313-e5c4e1e1de27"
      },
      "execution_count": 9,
      "outputs": [
        {
          "output_type": "execute_result",
          "data": {
            "text/plain": [
              "FIRST NAME     False\n",
              "LAST NAME      False\n",
              "GENDER         False\n",
              "MATH           False\n",
              "ENGLISH        False\n",
              "BIOLOGY        False\n",
              "ECONOMICS      False\n",
              "AGRIC          False\n",
              "INTELIGENCE    False\n",
              "dtype: bool"
            ]
          },
          "metadata": {},
          "execution_count": 9
        }
      ]
    },
    {
      "cell_type": "code",
      "source": [
        "### Total number of missing values per column\n",
        "data.isnull().sum()"
      ],
      "metadata": {
        "id": "Tx-TRMyiiCEm",
        "colab": {
          "base_uri": "https://localhost:8080/"
        },
        "outputId": "688e5e85-eea8-4074-b9fb-d2a04dd61931"
      },
      "execution_count": 10,
      "outputs": [
        {
          "output_type": "execute_result",
          "data": {
            "text/plain": [
              "FIRST NAME     0\n",
              "LAST NAME      0\n",
              "GENDER         0\n",
              "MATH           0\n",
              "ENGLISH        0\n",
              "BIOLOGY        0\n",
              "ECONOMICS      0\n",
              "AGRIC          0\n",
              "INTELIGENCE    0\n",
              "dtype: int64"
            ]
          },
          "metadata": {},
          "execution_count": 10
        }
      ]
    },
    {
      "cell_type": "code",
      "source": [
        "### %  of missing values per column\n",
        "data.isnull().sum()/data.shape[0] *100"
      ],
      "metadata": {
        "colab": {
          "base_uri": "https://localhost:8080/"
        },
        "id": "Xxsgwq8Uiasu",
        "outputId": "ab8dc7ae-39f4-4cfe-908b-83cb390fa0e0"
      },
      "execution_count": 11,
      "outputs": [
        {
          "output_type": "execute_result",
          "data": {
            "text/plain": [
              "FIRST NAME     0.0\n",
              "LAST NAME      0.0\n",
              "GENDER         0.0\n",
              "MATH           0.0\n",
              "ENGLISH        0.0\n",
              "BIOLOGY        0.0\n",
              "ECONOMICS      0.0\n",
              "AGRIC          0.0\n",
              "INTELIGENCE    0.0\n",
              "dtype: float64"
            ]
          },
          "metadata": {},
          "execution_count": 11
        }
      ]
    },
    {
      "cell_type": "markdown",
      "source": [
        "### 4.2 Check for duplicate entries"
      ],
      "metadata": {
        "id": "KWu372NhkB_E"
      }
    },
    {
      "cell_type": "code",
      "source": [
        "# Any duplicate value?\n",
        "data.duplicated().any()"
      ],
      "metadata": {
        "colab": {
          "base_uri": "https://localhost:8080/"
        },
        "id": "bG34d4vfkKhm",
        "outputId": "ebc3677c-456b-4b39-a9d6-43815cf471b8"
      },
      "execution_count": 12,
      "outputs": [
        {
          "output_type": "execute_result",
          "data": {
            "text/plain": [
              "False"
            ]
          },
          "metadata": {},
          "execution_count": 12
        }
      ]
    },
    {
      "cell_type": "code",
      "source": [
        "# Sum of duplicate values\n",
        "data.duplicated().sum()"
      ],
      "metadata": {
        "colab": {
          "base_uri": "https://localhost:8080/"
        },
        "id": "qsgTHG_gkPtC",
        "outputId": "6a091695-5a2d-4a35-e4e0-f1585175a680"
      },
      "execution_count": 13,
      "outputs": [
        {
          "output_type": "execute_result",
          "data": {
            "text/plain": [
              "0"
            ]
          },
          "metadata": {},
          "execution_count": 13
        }
      ]
    },
    {
      "cell_type": "markdown",
      "source": [
        "### 4.3 Data type conversion"
      ],
      "metadata": {
        "id": "PNjmOW5YnyJX"
      }
    },
    {
      "cell_type": "code",
      "source": [
        "data.dtypes"
      ],
      "metadata": {
        "colab": {
          "base_uri": "https://localhost:8080/"
        },
        "id": "Q2D7ztjcnrLX",
        "outputId": "ff810180-3e70-4944-d8f3-c0665d1ff26f"
      },
      "execution_count": 14,
      "outputs": [
        {
          "output_type": "execute_result",
          "data": {
            "text/plain": [
              "FIRST NAME      object\n",
              "LAST NAME       object\n",
              "GENDER          object\n",
              "MATH             int64\n",
              "ENGLISH        float64\n",
              "BIOLOGY        float64\n",
              "ECONOMICS        int64\n",
              "AGRIC          float64\n",
              "INTELIGENCE    float64\n",
              "dtype: object"
            ]
          },
          "metadata": {},
          "execution_count": 14
        }
      ]
    },
    {
      "cell_type": "markdown",
      "source": [
        "The data is in the correct data type with no missing value"
      ],
      "metadata": {
        "id": "h7YC2EBln5bN"
      }
    },
    {
      "cell_type": "markdown",
      "source": [
        "## 5.0 Exploratory Data Analysis"
      ],
      "metadata": {
        "id": "oBHf98QBjDwM"
      }
    },
    {
      "cell_type": "markdown",
      "source": [
        "#### 5.1 unique values in a column"
      ],
      "metadata": {
        "id": "yrjXWxmfj-iy"
      }
    },
    {
      "cell_type": "code",
      "source": [
        "data['FIRST NAME'].unique()"
      ],
      "metadata": {
        "colab": {
          "base_uri": "https://localhost:8080/"
        },
        "id": "elcQFeqtjylG",
        "outputId": "2913d961-89eb-4c2e-f84c-ef610d64a10a"
      },
      "execution_count": 15,
      "outputs": [
        {
          "output_type": "execute_result",
          "data": {
            "text/plain": [
              "array(['ATTAH ', 'IMRAN', 'JAMES', 'PICHARDS', 'SUCCESS', 'FLINT',\n",
              "       'KIEKIE', 'ANGELA', 'BALDWIN', 'CREED ', 'KING', 'KASADY',\n",
              "       'SHAGGI', 'MILES', 'RODERICK', 'JONES', 'PATRICK', 'FAMOUS',\n",
              "       'HENRY', 'EMIL', 'KENNY', 'FREAKY', 'FRED'], dtype=object)"
            ]
          },
          "metadata": {},
          "execution_count": 15
        }
      ]
    },
    {
      "cell_type": "code",
      "source": [
        "data['GENDER'].unique()"
      ],
      "metadata": {
        "colab": {
          "base_uri": "https://localhost:8080/"
        },
        "id": "LiRVmgq_lGB0",
        "outputId": "c81f22d1-0fda-4099-bbc5-6969c178690c"
      },
      "execution_count": 16,
      "outputs": [
        {
          "output_type": "execute_result",
          "data": {
            "text/plain": [
              "array(['MALE', 'FEMALE'], dtype=object)"
            ]
          },
          "metadata": {},
          "execution_count": 16
        }
      ]
    },
    {
      "cell_type": "markdown",
      "source": [
        "#### 5.2 Number of unique values in a column"
      ],
      "metadata": {
        "id": "M1zM8hkVk5z2"
      }
    },
    {
      "cell_type": "code",
      "source": [
        "data['FIRST NAME'].nunique()"
      ],
      "metadata": {
        "colab": {
          "base_uri": "https://localhost:8080/"
        },
        "id": "kA1wes_JlDhp",
        "outputId": "fc03ec19-7c46-4f35-a0d7-7f3041a3d60b"
      },
      "execution_count": 17,
      "outputs": [
        {
          "output_type": "execute_result",
          "data": {
            "text/plain": [
              "23"
            ]
          },
          "metadata": {},
          "execution_count": 17
        }
      ]
    },
    {
      "cell_type": "code",
      "source": [
        "data['GENDER'].nunique()"
      ],
      "metadata": {
        "colab": {
          "base_uri": "https://localhost:8080/"
        },
        "id": "sZPP8vc3lKdO",
        "outputId": "182ccad2-cea7-4ef8-f45e-60bfcd419f50"
      },
      "execution_count": 18,
      "outputs": [
        {
          "output_type": "execute_result",
          "data": {
            "text/plain": [
              "2"
            ]
          },
          "metadata": {},
          "execution_count": 18
        }
      ]
    },
    {
      "cell_type": "markdown",
      "source": [
        "### 5.3 Value count per categorical variable"
      ],
      "metadata": {
        "id": "K_rfW10sl3B3"
      }
    },
    {
      "cell_type": "code",
      "source": [
        "data['GENDER'].value_counts() # default is descending order, can be resorted"
      ],
      "metadata": {
        "colab": {
          "base_uri": "https://localhost:8080/"
        },
        "id": "eqcc1ABnlPLX",
        "outputId": "d905dfe5-d92d-4689-b0b9-79592529aec6"
      },
      "execution_count": 19,
      "outputs": [
        {
          "output_type": "execute_result",
          "data": {
            "text/plain": [
              "MALE      15\n",
              "FEMALE    11\n",
              "Name: GENDER, dtype: int64"
            ]
          },
          "metadata": {},
          "execution_count": 19
        }
      ]
    },
    {
      "cell_type": "markdown",
      "source": [
        "### 5.3 Data correlation coefficient"
      ],
      "metadata": {
        "id": "584VQOMimr9L"
      }
    },
    {
      "cell_type": "code",
      "source": [
        "data.corr()"
      ],
      "metadata": {
        "colab": {
          "base_uri": "https://localhost:8080/",
          "height": 0
        },
        "id": "F1LxldMZmy0d",
        "outputId": "a9460c89-8be3-4b95-ffda-7b085344d61a"
      },
      "execution_count": 20,
      "outputs": [
        {
          "output_type": "execute_result",
          "data": {
            "text/html": [
              "\n",
              "  <div id=\"df-76c284d3-0c13-4323-8ba0-e65158569486\">\n",
              "    <div class=\"colab-df-container\">\n",
              "      <div>\n",
              "<style scoped>\n",
              "    .dataframe tbody tr th:only-of-type {\n",
              "        vertical-align: middle;\n",
              "    }\n",
              "\n",
              "    .dataframe tbody tr th {\n",
              "        vertical-align: top;\n",
              "    }\n",
              "\n",
              "    .dataframe thead th {\n",
              "        text-align: right;\n",
              "    }\n",
              "</style>\n",
              "<table border=\"1\" class=\"dataframe\">\n",
              "  <thead>\n",
              "    <tr style=\"text-align: right;\">\n",
              "      <th></th>\n",
              "      <th>MATH</th>\n",
              "      <th>ENGLISH</th>\n",
              "      <th>BIOLOGY</th>\n",
              "      <th>ECONOMICS</th>\n",
              "      <th>AGRIC</th>\n",
              "      <th>INTELIGENCE</th>\n",
              "    </tr>\n",
              "  </thead>\n",
              "  <tbody>\n",
              "    <tr>\n",
              "      <th>MATH</th>\n",
              "      <td>1.000000</td>\n",
              "      <td>-0.073230</td>\n",
              "      <td>0.149463</td>\n",
              "      <td>-0.088987</td>\n",
              "      <td>0.283442</td>\n",
              "      <td>0.272438</td>\n",
              "    </tr>\n",
              "    <tr>\n",
              "      <th>ENGLISH</th>\n",
              "      <td>-0.073230</td>\n",
              "      <td>1.000000</td>\n",
              "      <td>-0.041866</td>\n",
              "      <td>0.276611</td>\n",
              "      <td>-0.099030</td>\n",
              "      <td>0.181951</td>\n",
              "    </tr>\n",
              "    <tr>\n",
              "      <th>BIOLOGY</th>\n",
              "      <td>0.149463</td>\n",
              "      <td>-0.041866</td>\n",
              "      <td>1.000000</td>\n",
              "      <td>-0.187161</td>\n",
              "      <td>0.251965</td>\n",
              "      <td>0.345487</td>\n",
              "    </tr>\n",
              "    <tr>\n",
              "      <th>ECONOMICS</th>\n",
              "      <td>-0.088987</td>\n",
              "      <td>0.276611</td>\n",
              "      <td>-0.187161</td>\n",
              "      <td>1.000000</td>\n",
              "      <td>0.281440</td>\n",
              "      <td>0.582391</td>\n",
              "    </tr>\n",
              "    <tr>\n",
              "      <th>AGRIC</th>\n",
              "      <td>0.283442</td>\n",
              "      <td>-0.099030</td>\n",
              "      <td>0.251965</td>\n",
              "      <td>0.281440</td>\n",
              "      <td>1.000000</td>\n",
              "      <td>0.894200</td>\n",
              "    </tr>\n",
              "    <tr>\n",
              "      <th>INTELIGENCE</th>\n",
              "      <td>0.272438</td>\n",
              "      <td>0.181951</td>\n",
              "      <td>0.345487</td>\n",
              "      <td>0.582391</td>\n",
              "      <td>0.894200</td>\n",
              "      <td>1.000000</td>\n",
              "    </tr>\n",
              "  </tbody>\n",
              "</table>\n",
              "</div>\n",
              "      <button class=\"colab-df-convert\" onclick=\"convertToInteractive('df-76c284d3-0c13-4323-8ba0-e65158569486')\"\n",
              "              title=\"Convert this dataframe to an interactive table.\"\n",
              "              style=\"display:none;\">\n",
              "        \n",
              "  <svg xmlns=\"http://www.w3.org/2000/svg\" height=\"24px\"viewBox=\"0 0 24 24\"\n",
              "       width=\"24px\">\n",
              "    <path d=\"M0 0h24v24H0V0z\" fill=\"none\"/>\n",
              "    <path d=\"M18.56 5.44l.94 2.06.94-2.06 2.06-.94-2.06-.94-.94-2.06-.94 2.06-2.06.94zm-11 1L8.5 8.5l.94-2.06 2.06-.94-2.06-.94L8.5 2.5l-.94 2.06-2.06.94zm10 10l.94 2.06.94-2.06 2.06-.94-2.06-.94-.94-2.06-.94 2.06-2.06.94z\"/><path d=\"M17.41 7.96l-1.37-1.37c-.4-.4-.92-.59-1.43-.59-.52 0-1.04.2-1.43.59L10.3 9.45l-7.72 7.72c-.78.78-.78 2.05 0 2.83L4 21.41c.39.39.9.59 1.41.59.51 0 1.02-.2 1.41-.59l7.78-7.78 2.81-2.81c.8-.78.8-2.07 0-2.86zM5.41 20L4 18.59l7.72-7.72 1.47 1.35L5.41 20z\"/>\n",
              "  </svg>\n",
              "      </button>\n",
              "      \n",
              "  <style>\n",
              "    .colab-df-container {\n",
              "      display:flex;\n",
              "      flex-wrap:wrap;\n",
              "      gap: 12px;\n",
              "    }\n",
              "\n",
              "    .colab-df-convert {\n",
              "      background-color: #E8F0FE;\n",
              "      border: none;\n",
              "      border-radius: 50%;\n",
              "      cursor: pointer;\n",
              "      display: none;\n",
              "      fill: #1967D2;\n",
              "      height: 32px;\n",
              "      padding: 0 0 0 0;\n",
              "      width: 32px;\n",
              "    }\n",
              "\n",
              "    .colab-df-convert:hover {\n",
              "      background-color: #E2EBFA;\n",
              "      box-shadow: 0px 1px 2px rgba(60, 64, 67, 0.3), 0px 1px 3px 1px rgba(60, 64, 67, 0.15);\n",
              "      fill: #174EA6;\n",
              "    }\n",
              "\n",
              "    [theme=dark] .colab-df-convert {\n",
              "      background-color: #3B4455;\n",
              "      fill: #D2E3FC;\n",
              "    }\n",
              "\n",
              "    [theme=dark] .colab-df-convert:hover {\n",
              "      background-color: #434B5C;\n",
              "      box-shadow: 0px 1px 3px 1px rgba(0, 0, 0, 0.15);\n",
              "      filter: drop-shadow(0px 1px 2px rgba(0, 0, 0, 0.3));\n",
              "      fill: #FFFFFF;\n",
              "    }\n",
              "  </style>\n",
              "\n",
              "      <script>\n",
              "        const buttonEl =\n",
              "          document.querySelector('#df-76c284d3-0c13-4323-8ba0-e65158569486 button.colab-df-convert');\n",
              "        buttonEl.style.display =\n",
              "          google.colab.kernel.accessAllowed ? 'block' : 'none';\n",
              "\n",
              "        async function convertToInteractive(key) {\n",
              "          const element = document.querySelector('#df-76c284d3-0c13-4323-8ba0-e65158569486');\n",
              "          const dataTable =\n",
              "            await google.colab.kernel.invokeFunction('convertToInteractive',\n",
              "                                                     [key], {});\n",
              "          if (!dataTable) return;\n",
              "\n",
              "          const docLinkHtml = 'Like what you see? Visit the ' +\n",
              "            '<a target=\"_blank\" href=https://colab.research.google.com/notebooks/data_table.ipynb>data table notebook</a>'\n",
              "            + ' to learn more about interactive tables.';\n",
              "          element.innerHTML = '';\n",
              "          dataTable['output_type'] = 'display_data';\n",
              "          await google.colab.output.renderOutput(dataTable, element);\n",
              "          const docLink = document.createElement('div');\n",
              "          docLink.innerHTML = docLinkHtml;\n",
              "          element.appendChild(docLink);\n",
              "        }\n",
              "      </script>\n",
              "    </div>\n",
              "  </div>\n",
              "  "
            ],
            "text/plain": [
              "                 MATH   ENGLISH   BIOLOGY  ECONOMICS     AGRIC  INTELIGENCE\n",
              "MATH         1.000000 -0.073230  0.149463  -0.088987  0.283442     0.272438\n",
              "ENGLISH     -0.073230  1.000000 -0.041866   0.276611 -0.099030     0.181951\n",
              "BIOLOGY      0.149463 -0.041866  1.000000  -0.187161  0.251965     0.345487\n",
              "ECONOMICS   -0.088987  0.276611 -0.187161   1.000000  0.281440     0.582391\n",
              "AGRIC        0.283442 -0.099030  0.251965   0.281440  1.000000     0.894200\n",
              "INTELIGENCE  0.272438  0.181951  0.345487   0.582391  0.894200     1.000000"
            ]
          },
          "metadata": {},
          "execution_count": 20
        }
      ]
    },
    {
      "cell_type": "markdown",
      "source": [
        "## 6.0 Data Visualization"
      ],
      "metadata": {
        "id": "58hbtFTSmPSx"
      }
    },
    {
      "cell_type": "markdown",
      "source": [
        "### 6.1 Countplot for gender"
      ],
      "metadata": {
        "id": "FiV-ZPMmnPZM"
      }
    },
    {
      "cell_type": "code",
      "source": [
        "sns.countplot(data.GENDER)"
      ],
      "metadata": {
        "colab": {
          "base_uri": "https://localhost:8080/",
          "height": 0
        },
        "id": "2LpLSOQqmo1p",
        "outputId": "fffa9754-bbc1-4edd-f447-950202e35cd4"
      },
      "execution_count": 21,
      "outputs": [
        {
          "output_type": "execute_result",
          "data": {
            "text/plain": [
              "<matplotlib.axes._subplots.AxesSubplot at 0x7f8945272dd0>"
            ]
          },
          "metadata": {},
          "execution_count": 21
        },
        {
          "output_type": "display_data",
          "data": {
            "image/png": "[encoded data removed]",
            "text/plain": [
              "<Figure size 432x288 with 1 Axes>"
            ]
          },
          "metadata": {
            "needs_background": "light"
          }
        }
      ]
    },
    {
      "cell_type": "markdown",
      "source": [
        "### 6.2 Boxplot for intelligence by gender "
      ],
      "metadata": {
        "id": "wW0d56VdnXWo"
      }
    },
    {
      "cell_type": "code",
      "source": [
        "sns.boxplot(data.GENDER, data.INTELIGENCE)"
      ],
      "metadata": {
        "colab": {
          "base_uri": "https://localhost:8080/",
          "height": 0
        },
        "id": "zzj8apOenfPS",
        "outputId": "4171737e-0886-4cc5-d6df-e687cb18ce33"
      },
      "execution_count": 22,
      "outputs": [
        {
          "output_type": "execute_result",
          "data": {
            "text/plain": [
              "<matplotlib.axes._subplots.AxesSubplot at 0x7f89441aaad0>"
            ]
          },
          "metadata": {},
          "execution_count": 22
        },
        {
          "output_type": "display_data",
          "data": {
            "image/png": "[encoded data removed]",
            "text/plain": [
              "<Figure size 432x288 with 1 Axes>"
            ]
          },
          "metadata": {
            "needs_background": "light"
          }
        }
      ]
    },
    {
      "cell_type": "markdown",
      "source": [
        "### 6.3 Histogram distribution for intelligence with KDE"
      ],
      "metadata": {
        "id": "EvIeOpoYpii9"
      }
    },
    {
      "cell_type": "code",
      "source": [
        "sns.histplot(data.INTELIGENCE, kde=True)"
      ],
      "metadata": {
        "colab": {
          "base_uri": "https://localhost:8080/",
          "height": 0
        },
        "id": "31WDdQpvnVKh",
        "outputId": "6f1cc592-7880-414c-d13d-da1130414187"
      },
      "execution_count": 23,
      "outputs": [
        {
          "output_type": "execute_result",
          "data": {
            "text/plain": [
              "<matplotlib.axes._subplots.AxesSubplot at 0x7f8943cf4bd0>"
            ]
          },
          "metadata": {},
          "execution_count": 23
        },
        {
          "output_type": "display_data",
          "data": {
            "image/png": "[encoded data removed]",
            "text/plain": [
              "<Figure size 432x288 with 1 Axes>"
            ]
          },
          "metadata": {
            "needs_background": "light"
          }
        }
      ]
    },
    {
      "cell_type": "markdown",
      "source": [
        "### 6.4 Lineplot to show the relationship between a subject and level of intelligence"
      ],
      "metadata": {
        "id": "732pGIIxpuHP"
      }
    },
    {
      "cell_type": "code",
      "source": [
        "sns.lineplot(data.AGRIC, data.INTELIGENCE)"
      ],
      "metadata": {
        "colab": {
          "base_uri": "https://localhost:8080/",
          "height": 0
        },
        "id": "g5yAZifoo7YJ",
        "outputId": "8a2079f9-c9ff-419f-df27-6ff48e1ce3cd"
      },
      "execution_count": 24,
      "outputs": [
        {
          "output_type": "execute_result",
          "data": {
            "text/plain": [
              "<matplotlib.axes._subplots.AxesSubplot at 0x7f8941c2a590>"
            ]
          },
          "metadata": {},
          "execution_count": 24
        },
        {
          "output_type": "display_data",
          "data": {
            "image/png": "[encoded data removed]",
            "text/plain": [
              "<Figure size 432x288 with 1 Axes>"
            ]
          },
          "metadata": {
            "needs_background": "light"
          }
        }
      ]
    },
    {
      "cell_type": "markdown",
      "source": [
        "### 6.5 Heatmap to show the correlation between numerical variables + correlation coefficeint "
      ],
      "metadata": {
        "id": "8ypAGMUaqsNm"
      }
    },
    {
      "cell_type": "code",
      "source": [
        "sns.heatmap(data.corr(), annot=True)"
      ],
      "metadata": {
        "colab": {
          "base_uri": "https://localhost:8080/",
          "height": 0
        },
        "id": "VjCXUNVkq9pA",
        "outputId": "a6ef7a4c-c4ef-4959-b3f2-cf5586559561"
      },
      "execution_count": 25,
      "outputs": [
        {
          "output_type": "execute_result",
          "data": {
            "text/plain": [
              "<matplotlib.axes._subplots.AxesSubplot at 0x7f8941c88b50>"
            ]
          },
          "metadata": {},
          "execution_count": 25
        },
        {
          "output_type": "display_data",
          "data": {
            "image/png": "[encoded data removed]",
            "text/plain": [
              "<Figure size 432x288 with 2 Axes>"
            ]
          },
          "metadata": {
            "needs_background": "light"
          }
        }
      ]
    },
    {
      "cell_type": "markdown",
      "source": [
        "### 6.5 Pairplot to show the relation between all numerical variables"
      ],
      "metadata": {
        "id": "ZgsBSiyRjul5"
      }
    },
    {
      "cell_type": "code",
      "source": [
        "plt.figure(figsize=(4,5))\n",
        "sns.pairplot(data)"
      ],
      "metadata": {
        "colab": {
          "base_uri": "https://localhost:8080/",
          "height": 1000
        },
        "id": "YaFZaAeXjxyp",
        "outputId": "47c45da8-ca49-4245-fa9b-273e62f5a4f3"
      },
      "execution_count": 26,
      "outputs": [
        {
          "output_type": "execute_result",
          "data": {
            "text/plain": [
              "<seaborn.axisgrid.PairGrid at 0x7f8939310490>"
            ]
          },
          "metadata": {},
          "execution_count": 26
        },
        {
          "output_type": "display_data",
          "data": {
            "text/plain": [
              "<Figure size 288x360 with 0 Axes>"
            ]
          },
          "metadata": {}
        },
        {
          "output_type": "display_data",
          "data": {
            "image/png": "[encoded data removed]",
            "text/plain": [
              "<Figure size 1080x1080 with 42 Axes>"
            ]
          },
          "metadata": {
            "needs_background": "light"
          }
        }
      ]
    },
    {
      "cell_type": "markdown",
      "source": [
        "Watch out for part 2..."
      ],
      "metadata": {
        "id": "eUhG8_KwbVbN"
      }
    },
    {
      "cell_type": "markdown",
      "source": [
        "Simple/Multiple Linear Regression\n",
        "* Feature extraction/engineering\n",
        "* Feature Selection\n",
        "* Model Training\n",
        "* Prediction"
      ],
      "metadata": {
        "id": "ZxkZjrQY1r40"
      }
    },
    {
      "cell_type": "code",
      "source": [
        ""
      ],
      "metadata": {
        "id": "cgEHrwF811Hr"
      },
      "execution_count": 26,
      "outputs": []
    }
  ]
}